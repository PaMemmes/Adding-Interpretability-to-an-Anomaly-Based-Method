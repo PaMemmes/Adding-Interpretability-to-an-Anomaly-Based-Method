{
 "cells": [
  {
   "cell_type": "code",
   "execution_count": null,
   "id": "36eb1584-8b65-42ec-acf2-11b808f470a6",
   "metadata": {},
   "outputs": [],
   "source": [
    "import pickle\n",
    "\n",
    "import numpy as np\n",
    "import pandas as pd\n",
    "from sklearn.preprocessing import LabelEncoder\n",
    "from sklearn.model_selection import train_test_split\n",
    "import glob\n",
    "\n",
    "pd.options.display.max_columns = None"
   ]
  },
  {
   "cell_type": "code",
   "execution_count": null,
   "id": "7e2676c9-80e7-44bc-a216-6901516e0785",
   "metadata": {},
   "outputs": [],
   "source": [
    "df_frag = pd.concat(map(pd.read_csv, glob.glob('data/csv_fragmentedV3/*.csv')))"
   ]
  },
  {
   "cell_type": "code",
   "execution_count": null,
   "id": "1a738114-19f3-41d5-bcd5-395b68b65dc6",
   "metadata": {},
   "outputs": [],
   "source": [
    "df = pd.read_csv('data/test/Friday-02-03-2018_TrafficForML_CICFlowMeter.csv')"
   ]
  },
  {
   "cell_type": "code",
   "execution_count": null,
   "id": "4e8b2214-eb02-4267-a8e7-d336d7f2e1c2",
   "metadata": {},
   "outputs": [],
   "source": [
    "df_cols = df.columns\n",
    "frag_cols = df_frag.columns\n",
    "\n",
    "common_cols = df_cols.intersection(frag_cols)\n",
    "only_frag_cols = frag_cols.difference(df_cols)"
   ]
  },
  {
   "cell_type": "code",
   "execution_count": null,
   "id": "7cfd98cd-5412-4f40-ab80-11bbc3714c83",
   "metadata": {},
   "outputs": [],
   "source": [
    "df_frag = df_frag.drop(only_frag_cols, axis=1)"
   ]
  },
  {
   "cell_type": "code",
   "execution_count": null,
   "id": "44c2270e-167d-42ac-98ff-31751d6fa63e",
   "metadata": {},
   "outputs": [],
   "source": [
    "df_frag['Label'] = df_frag['Label'].replace('No Label', 'Bot')"
   ]
  },
  {
   "cell_type": "code",
   "execution_count": null,
   "id": "e7682214-5b94-4e46-a68d-f2d13c45c525",
   "metadata": {},
   "outputs": [],
   "source": [
    "df_frag"
   ]
  },
  {
   "cell_type": "code",
   "execution_count": null,
   "id": "eaf4c2c3-5c70-4301-9be3-58b1087244fd",
   "metadata": {},
   "outputs": [],
   "source": [
    "df = pd.concat([df, df_frag], ignore_index=True, sort=False)"
   ]
  },
  {
   "cell_type": "code",
   "execution_count": null,
   "id": "8db50fb6-dc59-4cf3-8a65-80d8fa2fefb1",
   "metadata": {},
   "outputs": [],
   "source": [
    "df = df.drop('Timestamp', axis=1)"
   ]
  },
  {
   "cell_type": "code",
   "execution_count": null,
   "id": "860e8550-dcd4-4a9b-8145-c182994a7f14",
   "metadata": {},
   "outputs": [],
   "source": [
    "df.head()"
   ]
  },
  {
   "cell_type": "code",
   "execution_count": null,
   "id": "8bda34fa-2f0d-4f9c-9a7c-f953aabb90cf",
   "metadata": {},
   "outputs": [],
   "source": [
    "df['Label'].unique()"
   ]
  },
  {
   "cell_type": "code",
   "execution_count": null,
   "id": "a487c619-ba4f-431a-97a0-054c782607b4",
   "metadata": {},
   "outputs": [],
   "source": [
    "le = LabelEncoder()\n",
    "le.fit(df.Label)"
   ]
  },
  {
   "cell_type": "code",
   "execution_count": null,
   "id": "2dd1968e-eb54-4e4a-a699-44eab60b74f6",
   "metadata": {},
   "outputs": [],
   "source": [
    "def reduce_anomalies(df, pct_anomalies=.01):\n",
    "    labels = df['label'].copy()\n",
    "    is_anomaly = labels != 'BENIGN'\n",
    "    num_normal = np.sum(~is_anomaly)\n",
    "    num_anomalies = int(pct_anomalies * num_normal)\n",
    "    all_anomalies = labels[labels != 'BENIGN']\n",
    "    anomalies_to_keep = np.random.choice(\n",
    "        all_anomalies.index, size=num_anomalies, replace=False)\n",
    "    anomalous_data = df.iloc[anomalies_to_keep].copy()\n",
    "    normal_data = df[~is_anomaly].copy()\n",
    "    new_df = pd.concat([normal_data, anomalous_data], axis=0)\n",
    "    return new_df\n",
    "# reduce_anomalies(df)"
   ]
  },
  {
   "cell_type": "code",
   "execution_count": null,
   "id": "b04ebad3-36d0-462b-8824-481936c30161",
   "metadata": {},
   "outputs": [],
   "source": [
    "labels = df['Label'].copy()\n",
    "int_labels = le.transform(labels)\n",
    "df = df.drop('Label', axis=1)"
   ]
  },
  {
   "cell_type": "code",
   "execution_count": null,
   "id": "db3149eb-88a7-43a3-bbee-bccf7f565539",
   "metadata": {},
   "outputs": [],
   "source": [
    "int_labels.shape"
   ]
  },
  {
   "cell_type": "code",
   "execution_count": null,
   "id": "d12975f8-e20d-4230-944f-be1f8058aa4f",
   "metadata": {},
   "outputs": [],
   "source": [
    "df.shape"
   ]
  },
  {
   "cell_type": "code",
   "execution_count": null,
   "id": "a4efb918-3201-4bde-ae71-dbacd231ace1",
   "metadata": {},
   "outputs": [],
   "source": [
    "# Remove infinities and NaNs\n",
    "def remove_infs(df, labels):\n",
    "    assert isinstance(df, pd.DataFrame)\n",
    "    indices_to_keep = ~df.isin([np.nan, np.inf, -np.inf]).any(1)\n",
    "    return df[indices_to_keep], labels[indices_to_keep]"
   ]
  },
  {
   "cell_type": "code",
   "execution_count": null,
   "id": "26c7a571-aa64-46eb-9f88-3be3ce24bdcb",
   "metadata": {},
   "outputs": [],
   "source": [
    "before_removal = len(df)\n",
    "df, int_labels = remove_infs(df, int_labels)\n",
    "print(f'Length before NaN drop: {before_removal}, after NaN drop: {len(df)}\\n \\\n",
    "The df is now {len(df)/before_removal} of its original size')"
   ]
  },
  {
   "cell_type": "code",
   "execution_count": null,
   "id": "2ea5acbb-b7a1-4b79-ab7e-f44a0c61f853",
   "metadata": {},
   "outputs": [],
   "source": [
    "x_train, x_test, y_train, y_test = train_test_split(df,\n",
    "                                                    int_labels,\n",
    "                                                    test_size=.25,\n",
    "                                                    random_state=42)"
   ]
  },
  {
   "cell_type": "code",
   "execution_count": null,
   "id": "20e1ee54-f207-4325-b4eb-9fb8686b24a0",
   "metadata": {},
   "outputs": [],
   "source": [
    "preprocessed_data = {\n",
    "    'x_train': x_train,\n",
    "    'y_train': y_train,\n",
    "    'x_test': x_test,\n",
    "    'y_test': y_test,\n",
    "    'le': le\n",
    "}"
   ]
  },
  {
   "cell_type": "code",
   "execution_count": null,
   "id": "9784fa72-8ea3-451e-b836-ba9fa12bcab1",
   "metadata": {},
   "outputs": [],
   "source": [
    "with open('data/preprocessed_data.pickle', 'wb') as file:\n",
    "    pickle.dump(preprocessed_data, file)"
   ]
  },
  {
   "cell_type": "code",
   "execution_count": null,
   "id": "5dbc134b-3cfe-4354-9582-c7fdb5de96e8",
   "metadata": {},
   "outputs": [],
   "source": []
  }
 ],
 "metadata": {
  "kernelspec": {
   "display_name": "Python 3 (ipykernel)",
   "language": "python",
   "name": "python3"
  },
  "language_info": {
   "codemirror_mode": {
    "name": "ipython",
    "version": 3
   },
   "file_extension": ".py",
   "mimetype": "text/x-python",
   "name": "python",
   "nbconvert_exporter": "python",
   "pygments_lexer": "ipython3",
   "version": "3.10.9"
  }
 },
 "nbformat": 4,
 "nbformat_minor": 5
}
