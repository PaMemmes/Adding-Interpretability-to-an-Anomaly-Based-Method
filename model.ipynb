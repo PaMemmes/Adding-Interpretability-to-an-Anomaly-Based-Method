{
 "cells": [
  {
   "cell_type": "code",
   "execution_count": 1,
   "id": "847be261-b3d8-41ce-aacd-4c91d139f4e1",
   "metadata": {},
   "outputs": [
    {
     "name": "stderr",
     "output_type": "stream",
     "text": [
      "2023-02-23 18:59:22.905895: I tensorflow/core/platform/cpu_feature_guard.cc:193] This TensorFlow binary is optimized with oneAPI Deep Neural Network Library (oneDNN) to use the following CPU instructions in performance-critical operations:  AVX2 FMA\n",
      "To enable them in other operations, rebuild TensorFlow with the appropriate compiler flags.\n",
      "2023-02-23 18:59:22.981229: W tensorflow/compiler/xla/stream_executor/platform/default/dso_loader.cc:64] Could not load dynamic library 'libcudart.so.11.0'; dlerror: libcudart.so.11.0: cannot open shared object file: No such file or directory\n",
      "2023-02-23 18:59:22.981250: I tensorflow/compiler/xla/stream_executor/cuda/cudart_stub.cc:29] Ignore above cudart dlerror if you do not have a GPU set up on your machine.\n",
      "2023-02-23 18:59:23.445239: W tensorflow/compiler/xla/stream_executor/platform/default/dso_loader.cc:64] Could not load dynamic library 'libnvinfer.so.7'; dlerror: libnvinfer.so.7: cannot open shared object file: No such file or directory\n",
      "2023-02-23 18:59:23.445293: W tensorflow/compiler/xla/stream_executor/platform/default/dso_loader.cc:64] Could not load dynamic library 'libnvinfer_plugin.so.7'; dlerror: libnvinfer_plugin.so.7: cannot open shared object file: No such file or directory\n",
      "2023-02-23 18:59:23.445298: W tensorflow/compiler/tf2tensorrt/utils/py_utils.cc:38] TF-TRT Warning: Cannot dlopen some TensorRT libraries. If you would like to use Nvidia GPU with TensorRT, please make sure the missing libraries mentioned above are installed properly.\n"
     ]
    }
   ],
   "source": [
    "import pandas as pd\n",
    "import numpy as np\n",
    "import matplotlib.pyplot as plt\n",
    "import glob\n",
    "import pickle\n",
    "import os\n",
    "import collections\n",
    "\n",
    "from sklearn.metrics import roc_curve, auc, precision_recall_fscore_support, average_precision_score\n",
    "from sklearn.preprocessing import LabelEncoder, MinMaxScaler, StandardScaler\n",
    "from sklearn.metrics import precision_recall_curve, auc, confusion_matrix, accuracy_score\n",
    "from sklearn.model_selection import train_test_split\n",
    "\n",
    "#import seaborn as sns\n",
    "\n",
    "import tensorflow as tf\n",
    "from tensorflow import keras\n",
    "\n",
    "from tensorflow.keras.layers import Dense, Dropout\n",
    "from tensorflow.keras.layers import LeakyReLU\n",
    "from tensorflow.keras.layers import Input, BatchNormalization, LeakyReLU, Dense, Reshape, Flatten, Activation\n",
    "from tensorflow.keras.layers import Dropout, multiply, GaussianNoise, MaxPooling2D, concatenate\n",
    "from tensorflow.keras import initializers\n",
    "from tensorflow.keras.models import Model, Sequential\n",
    "from tensorflow.keras.optimizers.legacy import Adam\n",
    "from tensorflow.keras.callbacks import ModelCheckpoint\n",
    "\n",
    "from tqdm import tqdm"
   ]
  },
  {
   "cell_type": "code",
   "execution_count": 2,
   "id": "a2c98760-2352-4bbf-8de0-83a1226d3445",
   "metadata": {
    "tags": []
   },
   "outputs": [],
   "source": [
    "figure_path = 'model_plots/'"
   ]
  },
  {
   "cell_type": "code",
   "execution_count": 3,
   "id": "a87275e8-4902-4429-a040-2fd8b66679a7",
   "metadata": {
    "tags": []
   },
   "outputs": [
    {
     "name": "stdout",
     "output_type": "stream",
     "text": [
      "11.2\n",
      "8\n",
      "2.11.0\n"
     ]
    }
   ],
   "source": [
    "import tensorflow.python.platform.build_info as build\n",
    "print(build.build_info['cuda_version'])\n",
    "print(build.build_info['cudnn_version'])\n",
    "print(tf.__version__)"
   ]
  },
  {
   "cell_type": "code",
   "execution_count": 4,
   "id": "b591b28e-a2e8-4042-ba2a-2906db2406f4",
   "metadata": {
    "tags": []
   },
   "outputs": [
    {
     "name": "stderr",
     "output_type": "stream",
     "text": [
      "2023-02-23 18:59:23.888085: I tensorflow/compiler/xla/stream_executor/cuda/cuda_gpu_executor.cc:981] successful NUMA node read from SysFS had negative value (-1), but there must be at least one NUMA node, so returning NUMA node zero\n",
      "2023-02-23 18:59:23.888261: W tensorflow/compiler/xla/stream_executor/platform/default/dso_loader.cc:64] Could not load dynamic library 'libcudart.so.11.0'; dlerror: libcudart.so.11.0: cannot open shared object file: No such file or directory\n",
      "2023-02-23 18:59:23.888306: W tensorflow/compiler/xla/stream_executor/platform/default/dso_loader.cc:64] Could not load dynamic library 'libcublas.so.11'; dlerror: libcublas.so.11: cannot open shared object file: No such file or directory\n",
      "2023-02-23 18:59:23.888351: W tensorflow/compiler/xla/stream_executor/platform/default/dso_loader.cc:64] Could not load dynamic library 'libcublasLt.so.11'; dlerror: libcublasLt.so.11: cannot open shared object file: No such file or directory\n",
      "2023-02-23 18:59:23.888387: W tensorflow/compiler/xla/stream_executor/platform/default/dso_loader.cc:64] Could not load dynamic library 'libcufft.so.10'; dlerror: libcufft.so.10: cannot open shared object file: No such file or directory\n",
      "2023-02-23 18:59:23.888420: W tensorfl"
     ]
    },
    {
     "data": {
      "text/plain": [
       "[]"
      ]
     },
     "execution_count": 4,
     "metadata": {},
     "output_type": "execute_result"
    },
    {
     "name": "stderr",
     "output_type": "stream",
     "text": [
      "ow/compiler/xla/stream_executor/platform/default/dso_loader.cc:64] Could not load dynamic library 'libcurand.so.10'; dlerror: libcurand.so.10: cannot open shared object file: No such file or directory\n",
      "2023-02-23 18:59:23.888453: W tensorflow/compiler/xla/stream_executor/platform/default/dso_loader.cc:64] Could not load dynamic library 'libcusolver.so.11'; dlerror: libcusolver.so.11: cannot open shared object file: No such file or directory\n",
      "2023-02-23 18:59:23.888485: W tensorflow/compiler/xla/stream_executor/platform/default/dso_loader.cc:64] Could not load dynamic library 'libcusparse.so.11'; dlerror: libcusparse.so.11: cannot open shared object file: No such file or directory\n",
      "2023-02-23 18:59:23.888516: W tensorflow/compiler/xla/stream_executor/platform/default/dso_loader.cc:64] Could not load dynamic library 'libcudnn.so.8'; dlerror: libcudnn.so.8: cannot open shared object file: No such file or directory\n",
      "2023-02-23 18:59:23.888521: W tensorflow/core/common_runtime/gpu/gpu_device.cc:1934] Cannot dlopen some GPU libraries. Please make sure the missing libraries mentioned above are installed properly if you would like to use GPU. Follow the guide at https://www.tensorflow.org/install/gpu for how to download and setup the required libraries for your platform.\n",
      "Skipping registering GPU devices...\n"
     ]
    }
   ],
   "source": [
    "tf.config.list_physical_devices('GPU')"
   ]
  },
  {
   "cell_type": "code",
   "execution_count": 5,
   "id": "653c2ebc-c49c-4e57-94bf-6360e1face6a",
   "metadata": {},
   "outputs": [],
   "source": [
    "pd.options.display.max_columns = None"
   ]
  },
  {
   "cell_type": "code",
   "execution_count": 6,
   "id": "7bd7587f-2a6a-4b62-b1d5-7f65ea037ede",
   "metadata": {},
   "outputs": [],
   "source": [
    "#df_frag = pd.concat(map(pd.read_csv, glob.glob('data/csv_fragmentedV3/*.csv')))\n"
   ]
  },
  {
   "cell_type": "code",
   "execution_count": 7,
   "id": "a5918151-34b0-4aab-860b-b860f93a86d7",
   "metadata": {},
   "outputs": [],
   "source": [
    "#df = pd.read_csv('data/test/Friday-02-03-2018_TrafficForML_CICFlowMeter.csv')"
   ]
  },
  {
   "cell_type": "code",
   "execution_count": 8,
   "id": "0096dd1b-0de7-4f06-a8ea-28b9484d67ac",
   "metadata": {},
   "outputs": [],
   "source": [
    "#df = pd.concat(map(pd.read_csv, glob.glob('data/test/*.csv')))"
   ]
  },
  {
   "cell_type": "code",
   "execution_count": 9,
   "id": "1256750a-4143-4c17-be0f-e856829dcae3",
   "metadata": {},
   "outputs": [],
   "source": [
    "filename = 'data/preprocessed_data.pickle'\n",
    "\n",
    "input_file = open(filename, 'rb')\n",
    "preprocessed_data = pickle.load(input_file)\n",
    "input_file.close()"
   ]
  },
  {
   "cell_type": "code",
   "execution_count": 10,
   "id": "33efc897-ca02-4e36-bf6a-454bc457ba13",
   "metadata": {},
   "outputs": [],
   "source": [
    "le = preprocessed_data['le']\n",
    "x_train = preprocessed_data['x_train']\n",
    "y_train = preprocessed_data['y_train']\n",
    "x_test = preprocessed_data['x_test']\n",
    "y_test = preprocessed_data['y_test']"
   ]
  },
  {
   "cell_type": "code",
   "execution_count": 11,
   "id": "63564aa5-a617-4563-9e80-f2c45b1e5359",
   "metadata": {
    "tags": []
   },
   "outputs": [],
   "source": [
    "num_features = x_train.shape[1]"
   ]
  },
  {
   "cell_type": "code",
   "execution_count": 12,
   "id": "362d6127-facb-4a06-ba83-4723a973622d",
   "metadata": {
    "tags": []
   },
   "outputs": [
    {
     "data": {
      "text/plain": [
       "78"
      ]
     },
     "execution_count": 12,
     "metadata": {},
     "output_type": "execute_result"
    }
   ],
   "source": [
    "num_features"
   ]
  },
  {
   "cell_type": "code",
   "execution_count": 13,
   "id": "76334c01-0405-4d68-bc00-5dc8f663f8fc",
   "metadata": {},
   "outputs": [
    {
     "data": {
      "text/html": [
       "<div>\n",
       "<style scoped>\n",
       "    .dataframe tbody tr th:only-of-type {\n",
       "        vertical-align: middle;\n",
       "    }\n",
       "\n",
       "    .dataframe tbody tr th {\n",
       "        vertical-align: top;\n",
       "    }\n",
       "\n",
       "    .dataframe thead th {\n",
       "        text-align: right;\n",
       "    }\n",
       "</style>\n",
       "<table border=\"1\" class=\"dataframe\">\n",
       "  <thead>\n",
       "    <tr style=\"text-align: right;\">\n",
       "      <th></th>\n",
       "      <th>Type</th>\n",
       "    </tr>\n",
       "  </thead>\n",
       "  <tbody>\n",
       "    <tr>\n",
       "      <th>0</th>\n",
       "      <td>BENIGN</td>\n",
       "    </tr>\n",
       "    <tr>\n",
       "      <th>1</th>\n",
       "      <td>PortScan</td>\n",
       "    </tr>\n",
       "  </tbody>\n",
       "</table>\n",
       "</div>"
      ],
      "text/plain": [
       "       Type\n",
       "0    BENIGN\n",
       "1  PortScan"
      ]
     },
     "execution_count": 13,
     "metadata": {},
     "output_type": "execute_result"
    }
   ],
   "source": [
    "pd.DataFrame(le.classes_, columns=['Type'])"
   ]
  },
  {
   "cell_type": "code",
   "execution_count": 14,
   "id": "d73365c5-6294-45ac-a3b1-59dfa8e80276",
   "metadata": {},
   "outputs": [
    {
     "name": "stdout",
     "output_type": "stream",
     "text": [
      "(243181, 78)\n",
      "(243181,)\n",
      "(42915, 78)\n",
      "(42915,)\n"
     ]
    }
   ],
   "source": [
    "assert x_train.shape[0] == y_train.shape[0]\n",
    "assert x_test.shape[0] == y_test.shape[0]\n",
    "assert x_train.shape[1] == x_test.shape[1]\n",
    "print(x_train.shape)\n",
    "print(y_train.shape)\n",
    "print(x_test.shape)\n",
    "print(y_test.shape)"
   ]
  },
  {
   "cell_type": "code",
   "execution_count": 15,
   "id": "7c861f76-50ed-4e91-8bcd-c704f0b18cc5",
   "metadata": {},
   "outputs": [],
   "source": [
    "# Labels normal data as 0, anomalies as 1\n",
    "\n",
    "def make_labels_binary(label_encoder, labels):\n",
    "    normal_data_index = np.where(label_encoder.classes_ == 'BENIGN')[0][0]\n",
    "    new_labels = labels.copy()\n",
    "    new_labels[labels != normal_data_index] = 1\n",
    "    new_labels[labels == normal_data_index] = 0\n",
    "    return new_labels"
   ]
  },
  {
   "cell_type": "code",
   "execution_count": 16,
   "id": "0eb5a43a-1985-468f-b61c-fd75efe70b25",
   "metadata": {},
   "outputs": [],
   "source": [
    "y_train = make_labels_binary(le, y_train)\n",
    "y_test = make_labels_binary(le, y_test)"
   ]
  },
  {
   "cell_type": "code",
   "execution_count": 17,
   "id": "5d7ad8e6-02dc-4e2b-bcc9-be3a0256dd66",
   "metadata": {},
   "outputs": [
    {
     "name": "stdout",
     "output_type": "stream",
     "text": [
      "Number of anomalies in y_train: 134,869\n",
      "Number of anomalies in y_test: 23,935\n"
     ]
    }
   ],
   "source": [
    "print(f'Number of anomalies in y_train: {y_train.sum():,}')\n",
    "print(f'Number of anomalies in y_test: {y_test.sum():,}')"
   ]
  },
  {
   "cell_type": "code",
   "execution_count": 18,
   "id": "7dceb226-42ee-4222-9106-cbb497ed7aba",
   "metadata": {},
   "outputs": [],
   "source": [
    "prev_len = len(x_train)"
   ]
  },
  {
   "cell_type": "code",
   "execution_count": 19,
   "id": "3e610336-66e4-46ae-9fb5-7a1a517bff96",
   "metadata": {
    "tags": []
   },
   "outputs": [],
   "source": [
    "def subset_normal(x_train, y_train):\n",
    "    temp_df = x_train.copy()\n",
    "    temp_df['label'] = y_train\n",
    "    temp_df = temp_df.loc[temp_df['label'] == 0]\n",
    "    y_train = temp_df['label'].copy()\n",
    "    temp_df = temp_df.drop('label', axis = 1)\n",
    "    x_train = temp_df.copy()\n",
    "    return x_train,y_train"
   ]
  },
  {
   "cell_type": "code",
   "execution_count": 20,
   "id": "65651f06-098f-48e1-8e90-2adad9a715a6",
   "metadata": {},
   "outputs": [
    {
     "name": "stdout",
     "output_type": "stream",
     "text": [
      "Dataset has now the size of 0.45 of the original dataset\n"
     ]
    }
   ],
   "source": [
    "#Subsetting only Normal Network packets in our training set\n",
    "x_train, y_train = subset_normal(x_train, y_train)\n",
    "print(f'Dataset has now the size of {(len(x_train)/prev_len):.2} of the original dataset')"
   ]
  },
  {
   "cell_type": "code",
   "execution_count": 21,
   "id": "59fd4aa9-6fab-4f86-a645-50ddbb1a6b9d",
   "metadata": {},
   "outputs": [
    {
     "name": "stdout",
     "output_type": "stream",
     "text": [
      "(108312, 78)\n",
      "(108312,)\n",
      "(42915, 78)\n",
      "(42915,)\n"
     ]
    }
   ],
   "source": [
    "print(x_train.shape)\n",
    "print(y_train.shape)\n",
    "print(x_test.shape)\n",
    "print(y_test.shape)"
   ]
  },
  {
   "cell_type": "code",
   "execution_count": 22,
   "id": "f47a9c01-8cd7-4e80-bf8e-4436ee58d34e",
   "metadata": {},
   "outputs": [],
   "source": [
    "scaler = MinMaxScaler()\n",
    "\n",
    "x_train = scaler.fit_transform(x_train)\n",
    "x_test = scaler.transform(x_test)"
   ]
  },
  {
   "cell_type": "code",
   "execution_count": 23,
   "id": "b176f014-fd21-41ca-9229-9a3b271802b5",
   "metadata": {},
   "outputs": [],
   "source": [
    "dataset = {}\n",
    "dataset['x_train'] = x_train.astype(np.float32)\n",
    "dataset['y_train'] = y_train.astype(np.float32)\n",
    "dataset['x_test'] = x_test.astype(np.float32)\n",
    "dataset['y_test'] = y_test.astype(np.float32)"
   ]
  },
  {
   "cell_type": "code",
   "execution_count": 24,
   "id": "6f0262a9-c3e2-4a5a-92fe-cc56ad1355f2",
   "metadata": {},
   "outputs": [
    {
     "name": "stdout",
     "output_type": "stream",
     "text": [
      "Number of Normal Network packets in the test set: 18980\n",
      "Number of Anomalous Network packets in the test set: 23935\n",
      "Ratio of anomalous to normal network packets:  0.5577303972969824\n"
     ]
    }
   ],
   "source": [
    "normals = collections.Counter(y_test)[0]\n",
    "anomalies = collections.Counter(y_test)[1]\n",
    "anomalies_percentage = anomalies / (normals + anomalies)\n",
    "print('Number of Normal Network packets in the test set:', normals)\n",
    "print('Number of Anomalous Network packets in the test set:', anomalies)\n",
    "print('Ratio of anomalous to normal network packets: ', anomalies_percentage)"
   ]
  },
  {
   "cell_type": "code",
   "execution_count": 25,
   "id": "53e75030-80cd-4247-b911-2172608e7a4e",
   "metadata": {},
   "outputs": [],
   "source": [
    "def get_generator(optim):\n",
    "    generator = Sequential()\n",
    "    generator.add(Dense(64, input_dim=num_features,\n",
    "                  kernel_initializer=initializers.glorot_normal(seed=32)))\n",
    "    generator.add(Activation('relu'))\n",
    "\n",
    "       \n",
    "    generator.add(Dense(128))\n",
    "    generator.add(Activation('relu'))\n",
    "    \n",
    "    generator.add(Dense(256))\n",
    "    generator.add(Activation('relu'))\n",
    "    \n",
    "    generator.add(Dense(256))\n",
    "    generator.add(Activation('relu'))\n",
    "       \n",
    "    generator.add(Dense(512))\n",
    "    generator.add(Activation('relu'))\n",
    "   \n",
    "    generator.add(Dense(num_features, activation='tanh'))\n",
    "    \n",
    "    generator.compile(loss='binary_crossentropy', optimizer=optim)\n",
    "\n",
    "    return generator\n",
    "\n",
    "\n",
    "def get_discriminator(optim):\n",
    "\n",
    "    discriminator = Sequential()\n",
    "\n",
    "    discriminator.add(Dense(256, input_dim=num_features,\n",
    "                      kernel_initializer=initializers.glorot_normal(seed=32)))\n",
    "    \n",
    "\n",
    "\n",
    "    discriminator.add(Dense(128))\n",
    "    discriminator.add(LeakyReLU())\n",
    "       \n",
    "    discriminator.add(Dense(128))\n",
    "    discriminator.add(LeakyReLU())\n",
    "    \n",
    "    discriminator.add(Dense(128))\n",
    "    discriminator.add(LeakyReLU())\n",
    "\n",
    "    discriminator.add(Dense(128))\n",
    "    discriminator.add(LeakyReLU())\n",
    "    \n",
    "    discriminator.add(Dense(1))\n",
    "    discriminator.add(Activation('sigmoid'))\n",
    "   \n",
    "    discriminator.compile(loss='binary_crossentropy', optimizer=optim)\n",
    "\n",
    "\n",
    "    return discriminator"
   ]
  },
  {
   "cell_type": "code",
   "execution_count": 26,
   "id": "17baad3d-1fb4-4f4c-bba6-446a934cd7c3",
   "metadata": {},
   "outputs": [],
   "source": [
    "def make_gan_network(discriminator, generator, optim, input_dim=num_features):\n",
    "    discriminator.trainable = False\n",
    "    gan_input = Input(shape=(input_dim,))\n",
    "    x = generator(gan_input)\n",
    "    gan_output = discriminator(x)\n",
    "\n",
    "    gan = Model(inputs=gan_input, outputs=gan_output)\n",
    "    gan.compile(loss='binary_crossentropy', optimizer=optim)\n",
    "\n",
    "    return gan"
   ]
  },
  {
   "cell_type": "code",
   "execution_count": 27,
   "id": "334d789f-0983-4e45-813d-8b77a5b1614d",
   "metadata": {},
   "outputs": [],
   "source": [
    "lr = 0.0002\n",
    "batch_size = 512\n",
    "epochs = 50\n",
    "momentum=0.5\n",
    "adam = Adam(learning_rate=lr, beta_1=momentum)"
   ]
  },
  {
   "cell_type": "code",
   "execution_count": 28,
   "id": "2ff78f5b-eace-4eb5-b6a3-29ffddbcf833",
   "metadata": {},
   "outputs": [],
   "source": [
    "# Training the GAN\n",
    "x_train, y_train, x_test, y_test = dataset['x_train'], dataset['y_train'], dataset['x_test'], dataset['y_test']"
   ]
  },
  {
   "cell_type": "code",
   "execution_count": 29,
   "id": "60d648dd-0584-4fa6-999c-aaa631eb1e5a",
   "metadata": {},
   "outputs": [],
   "source": [
    "# x_train, y_train = x_train[:20], y_train[:20]"
   ]
  },
  {
   "cell_type": "code",
   "execution_count": 30,
   "id": "6fd0e770-bad8-4cf7-904e-2e90a92e4cbe",
   "metadata": {
    "tags": []
   },
   "outputs": [
    {
     "name": "stdout",
     "output_type": "stream",
     "text": [
      "(108312, 78) (108312,) (42915, 78) (42915,)\n"
     ]
    }
   ],
   "source": [
    "print(x_train.shape, y_train.shape, x_test.shape, y_test.shape)"
   ]
  },
  {
   "cell_type": "code",
   "execution_count": 31,
   "id": "edaa7800-b777-4963-ad4f-9b94198ecb0c",
   "metadata": {},
   "outputs": [
    {
     "name": "stderr",
     "output_type": "stream",
     "text": [
      "  0%|                                                                                                                                                   | 0/10550 [00:00<?, ?it/s]2023-02-23 18:59:24.336641: I tensorflow/core/platform/cpu_feature_guard.cc:193] This TensorFlow binary is optimized with oneAPI Deep Neural Network Library (oneDNN) to use the following CPU instructions in performance-critical operations:  AVX2 FMA\n",
      "To enable them in other operations, rebuild TensorFlow with the appropriate compiler flags.\n",
      "  0%|                                                                                                                                           | 1/10550 [00:00<24:46,  7.10it/s]"
     ]
    },
    {
     "name": "stdout",
     "output_type": "stream",
     "text": [
      "Number params:  386575\n"
     ]
    },
    {
     "name": "stderr",
     "output_type": "stream",
     "text": [
      "  2%|██▊                                                                                                                                      | 217/10550 [00:05<04:10, 41.26it/s]"
     ]
    },
    {
     "name": "stdout",
     "output_type": "stream",
     "text": [
      "Epoch 0 Batch 210/211 [D loss: 0.511573] [G loss:0.901365]\n"
     ]
    },
    {
     "name": "stderr",
     "output_type": "stream",
     "text": [
      "  4%|█████▌                                                                                                                                   | 427/10550 [00:11<04:03, 41.66it/s]"
     ]
    },
    {
     "name": "stdout",
     "output_type": "stream",
     "text": [
      "Epoch 1 Batch 210/211 [D loss: 0.419564] [G loss:0.973392]\n"
     ]
    },
    {
     "name": "stderr",
     "output_type": "stream",
     "text": [
      "  6%|████████▎                                                                                                                                | 642/10550 [00:16<03:52, 42.55it/s]"
     ]
    },
    {
     "name": "stdout",
     "output_type": "stream",
     "text": [
      "Epoch 2 Batch 210/211 [D loss: 0.224042] [G loss:0.810263]\n"
     ]
    },
    {
     "name": "stderr",
     "output_type": "stream",
     "text": [
      "  8%|███████████                                                                                                                              | 852/10550 [00:21<03:52, 41.73it/s]"
     ]
    },
    {
     "name": "stdout",
     "output_type": "stream",
     "text": [
      "Epoch 3 Batch 210/211 [D loss: 0.074240] [G loss:0.316824]\n"
     ]
    },
    {
     "name": "stderr",
     "output_type": "stream",
     "text": [
      " 10%|█████████████▋                                                                                                                          | 1062/10550 [00:26<03:42, 42.70it/s]"
     ]
    },
    {
     "name": "stdout",
     "output_type": "stream",
     "text": [
      "Epoch 4 Batch 210/211 [D loss: 0.088138] [G loss:0.561649]\n"
     ]
    },
    {
     "name": "stderr",
     "output_type": "stream",
     "text": [
      " 12%|████████████████▍                                                                                                                       | 1272/10550 [00:31<03:36, 42.79it/s]"
     ]
    },
    {
     "name": "stdout",
     "output_type": "stream",
     "text": [
      "Epoch 5 Batch 210/211 [D loss: 0.031706] [G loss:0.153321]\n"
     ]
    },
    {
     "name": "stderr",
     "output_type": "stream",
     "text": [
      " 14%|███████████████████                                                                                                                     | 1482/10550 [00:36<03:31, 42.85it/s]"
     ]
    },
    {
     "name": "stdout",
     "output_type": "stream",
     "text": [
      "Epoch 6 Batch 210/211 [D loss: 0.019932] [G loss:0.175367]\n"
     ]
    },
    {
     "name": "stderr",
     "output_type": "stream",
     "text": [
      " 16%|█████████████████████▉                                                                                                                  | 1697/10550 [00:41<03:27, 42.67it/s]"
     ]
    },
    {
     "name": "stdout",
     "output_type": "stream",
     "text": [
      "Epoch 7 Batch 210/211 [D loss: 0.085125] [G loss:0.287954]\n"
     ]
    },
    {
     "name": "stderr",
     "output_type": "stream",
     "text": [
      " 18%|████████████████████████▌                                                                                                               | 1907/10550 [00:46<03:22, 42.70it/s]"
     ]
    },
    {
     "name": "stdout",
     "output_type": "stream",
     "text": [
      "Epoch 8 Batch 210/211 [D loss: 0.020386] [G loss:0.061424]\n"
     ]
    },
    {
     "name": "stderr",
     "output_type": "stream",
     "text": [
      " 20%|███████████████████████████▎                                                                                                            | 2117/10550 [00:51<03:17, 42.65it/s]"
     ]
    },
    {
     "name": "stdout",
     "output_type": "stream",
     "text": [
      "Epoch 9 Batch 210/211 [D loss: 0.018183] [G loss:0.062232]\n"
     ]
    },
    {
     "name": "stderr",
     "output_type": "stream",
     "text": [
      " 22%|█████████████████████████████▉                                                                                                          | 2327/10550 [00:55<03:11, 42.92it/s]"
     ]
    },
    {
     "name": "stdout",
     "output_type": "stream",
     "text": [
      "Epoch 10 Batch 210/211 [D loss: 0.017086] [G loss:0.098916]\n"
     ]
    },
    {
     "name": "stderr",
     "output_type": "stream",
     "text": [
      " 24%|████████████████████████████████▋                                                                                                       | 2537/10550 [01:00<03:09, 42.27it/s]"
     ]
    },
    {
     "name": "stdout",
     "output_type": "stream",
     "text": [
      "Epoch 11 Batch 210/211 [D loss: 0.020371] [G loss:0.127647]\n"
     ]
    },
    {
     "name": "stderr",
     "output_type": "stream",
     "text": [
      " 26%|███████████████████████████████████▍                                                                                                    | 2752/10550 [01:06<03:02, 42.66it/s]"
     ]
    },
    {
     "name": "stdout",
     "output_type": "stream",
     "text": [
      "Epoch 12 Batch 210/211 [D loss: 0.015411] [G loss:0.200445]\n"
     ]
    },
    {
     "name": "stderr",
     "output_type": "stream",
     "text": [
      " 28%|██████████████████████████████████████▏                                                                                                 | 2961/10550 [01:11<03:07, 40.49it/s]"
     ]
    },
    {
     "name": "stdout",
     "output_type": "stream",
     "text": [
      "Epoch 13 Batch 210/211 [D loss: 0.012664] [G loss:0.116866]\n"
     ]
    },
    {
     "name": "stderr",
     "output_type": "stream",
     "text": [
      " 30%|████████████████████████████████████████▊                                                                                               | 3170/10550 [01:16<03:05, 39.68it/s]"
     ]
    },
    {
     "name": "stdout",
     "output_type": "stream",
     "text": [
      "Epoch 14 Batch 210/211 [D loss: 0.036098] [G loss:0.148445]\n"
     ]
    },
    {
     "name": "stderr",
     "output_type": "stream",
     "text": [
      " 32%|███████████████████████████████████████████▌                                                                                            | 3381/10550 [01:21<03:09, 37.87it/s]"
     ]
    },
    {
     "name": "stdout",
     "output_type": "stream",
     "text": [
      "Epoch 15 Batch 210/211 [D loss: 0.022812] [G loss:0.092225]\n"
     ]
    },
    {
     "name": "stderr",
     "output_type": "stream",
     "text": [
      " 34%|██████████████████████████████████████████████▎                                                                                         | 3596/10550 [01:27<02:53, 40.10it/s]"
     ]
    },
    {
     "name": "stdout",
     "output_type": "stream",
     "text": [
      "Epoch 16 Batch 210/211 [D loss: 0.015507] [G loss:0.064629]\n"
     ]
    },
    {
     "name": "stderr",
     "output_type": "stream",
     "text": [
      " 36%|█████████████████████████████████████████████████                                                                                       | 3806/10550 [01:32<02:49, 39.73it/s]"
     ]
    },
    {
     "name": "stdout",
     "output_type": "stream",
     "text": [
      "Epoch 17 Batch 210/211 [D loss: 0.014814] [G loss:0.111245]\n"
     ]
    },
    {
     "name": "stderr",
     "output_type": "stream",
     "text": [
      " 38%|███████████████████████████████████████████████████▊                                                                                    | 4018/10550 [01:37<02:41, 40.48it/s]"
     ]
    },
    {
     "name": "stdout",
     "output_type": "stream",
     "text": [
      "Epoch 18 Batch 210/211 [D loss: 0.789550] [G loss:5.757842]\n"
     ]
    },
    {
     "name": "stderr",
     "output_type": "stream",
     "text": [
      " 40%|██████████████████████████████████████████████████████▍                                                                                 | 4227/10550 [01:42<02:35, 40.57it/s]"
     ]
    },
    {
     "name": "stdout",
     "output_type": "stream",
     "text": [
      "Epoch 19 Batch 210/211 [D loss: 0.212704] [G loss:2.591982]\n"
     ]
    },
    {
     "name": "stderr",
     "output_type": "stream",
     "text": [
      " 42%|█████████████████████████████████████████████████████████▏                                                                              | 4440/10550 [01:48<02:32, 39.97it/s]"
     ]
    },
    {
     "name": "stdout",
     "output_type": "stream",
     "text": [
      "Epoch 20 Batch 210/211 [D loss: 0.182162] [G loss:1.887971]\n"
     ]
    },
    {
     "name": "stderr",
     "output_type": "stream",
     "text": [
      " 44%|███████████████████████████████████████████████████████████▉                                                                            | 4648/10550 [01:53<02:27, 39.95it/s]"
     ]
    },
    {
     "name": "stdout",
     "output_type": "stream",
     "text": [
      "Epoch 21 Batch 210/211 [D loss: 0.084610] [G loss:1.875152]\n"
     ]
    },
    {
     "name": "stderr",
     "output_type": "stream",
     "text": [
      " 46%|██████████████████████████████████████████████████████████████▋                                                                         | 4860/10550 [01:58<02:23, 39.54it/s]"
     ]
    },
    {
     "name": "stdout",
     "output_type": "stream",
     "text": [
      "Epoch 22 Batch 210/211 [D loss: 0.047861] [G loss:1.821949]\n"
     ]
    },
    {
     "name": "stderr",
     "output_type": "stream",
     "text": [
      " 48%|█████████████████████████████████████████████████████████████████▎                                                                      | 5069/10550 [02:04<02:16, 40.29it/s]"
     ]
    },
    {
     "name": "stdout",
     "output_type": "stream",
     "text": [
      "Epoch 23 Batch 210/211 [D loss: 0.052094] [G loss:1.866671]\n"
     ]
    },
    {
     "name": "stderr",
     "output_type": "stream",
     "text": [
      " 50%|████████████████████████████████████████████████████████████████████                                                                    | 5281/10550 [02:09<02:11, 40.12it/s]"
     ]
    },
    {
     "name": "stdout",
     "output_type": "stream",
     "text": [
      "Epoch 24 Batch 210/211 [D loss: 0.053782] [G loss:2.865721]\n"
     ]
    },
    {
     "name": "stderr",
     "output_type": "stream",
     "text": [
      " 52%|██████████████████████████████████████████████████████████████████████▊                                                                 | 5491/10550 [02:14<02:04, 40.49it/s]"
     ]
    },
    {
     "name": "stdout",
     "output_type": "stream",
     "text": [
      "Epoch 25 Batch 210/211 [D loss: 0.027826] [G loss:1.850881]\n"
     ]
    },
    {
     "name": "stderr",
     "output_type": "stream",
     "text": [
      " 54%|█████████████████████████████████████████████████████████████████████████▌                                                              | 5704/10550 [02:19<02:01, 39.82it/s]"
     ]
    },
    {
     "name": "stdout",
     "output_type": "stream",
     "text": [
      "Epoch 26 Batch 210/211 [D loss: 0.087319] [G loss:4.272746]\n"
     ]
    },
    {
     "name": "stderr",
     "output_type": "stream",
     "text": [
      " 56%|████████████████████████████████████████████████████████████████████████████▎                                                           | 5915/10550 [02:25<01:54, 40.37it/s]"
     ]
    },
    {
     "name": "stdout",
     "output_type": "stream",
     "text": [
      "Epoch 27 Batch 210/211 [D loss: 0.011360] [G loss:1.432166]\n"
     ]
    },
    {
     "name": "stderr",
     "output_type": "stream",
     "text": [
      " 58%|██████████████████████████████████████████████████████████████████████████████▉                                                         | 6125/10550 [02:30<01:49, 40.48it/s]"
     ]
    },
    {
     "name": "stdout",
     "output_type": "stream",
     "text": [
      "Epoch 28 Batch 210/211 [D loss: 0.012205] [G loss:0.703160]\n"
     ]
    },
    {
     "name": "stderr",
     "output_type": "stream",
     "text": [
      " 60%|█████████████████████████████████████████████████████████████████████████████████▋                                                      | 6339/10550 [02:35<01:43, 40.61it/s]"
     ]
    },
    {
     "name": "stdout",
     "output_type": "stream",
     "text": [
      "Epoch 29 Batch 210/211 [D loss: 0.017922] [G loss:0.998370]\n"
     ]
    },
    {
     "name": "stderr",
     "output_type": "stream",
     "text": [
      " 62%|████████████████████████████████████████████████████████████████████████████████████▍                                                   | 6549/10550 [02:40<01:37, 41.24it/s]"
     ]
    },
    {
     "name": "stdout",
     "output_type": "stream",
     "text": [
      "Epoch 30 Batch 210/211 [D loss: 0.015494] [G loss:1.213904]\n"
     ]
    },
    {
     "name": "stderr",
     "output_type": "stream",
     "text": [
      " 64%|███████████████████████████████████████████████████████████████████████████████████████▏                                                | 6759/10550 [02:45<01:32, 41.12it/s]"
     ]
    },
    {
     "name": "stdout",
     "output_type": "stream",
     "text": [
      "Epoch 31 Batch 210/211 [D loss: 0.013852] [G loss:1.283836]\n"
     ]
    },
    {
     "name": "stderr",
     "output_type": "stream",
     "text": [
      " 66%|█████████████████████████████████████████████████████████████████████████████████████████▊                                              | 6969/10550 [02:50<01:27, 40.77it/s]"
     ]
    },
    {
     "name": "stdout",
     "output_type": "stream",
     "text": [
      "Epoch 32 Batch 210/211 [D loss: 0.007967] [G loss:1.630014]\n"
     ]
    },
    {
     "name": "stderr",
     "output_type": "stream",
     "text": [
      " 68%|████████████████████████████████████████████████████████████████████████████████████████████▌                                           | 7179/10550 [02:56<01:23, 40.42it/s]"
     ]
    },
    {
     "name": "stdout",
     "output_type": "stream",
     "text": [
      "Epoch 33 Batch 210/211 [D loss: 0.012165] [G loss:1.109452]\n"
     ]
    },
    {
     "name": "stderr",
     "output_type": "stream",
     "text": [
      " 70%|███████████████████████████████████████████████████████████████████████████████████████████████▎                                        | 7394/10550 [03:01<01:18, 40.45it/s]"
     ]
    },
    {
     "name": "stdout",
     "output_type": "stream",
     "text": [
      "Epoch 34 Batch 210/211 [D loss: 0.005169] [G loss:0.596047]\n"
     ]
    },
    {
     "name": "stderr",
     "output_type": "stream",
     "text": [
      " 72%|██████████████████████████████████████████████████████████████████████████████████████████████████                                      | 7605/10550 [03:06<01:14, 39.79it/s]"
     ]
    },
    {
     "name": "stdout",
     "output_type": "stream",
     "text": [
      "Epoch 35 Batch 210/211 [D loss: 0.043223] [G loss:2.254428]\n"
     ]
    },
    {
     "name": "stderr",
     "output_type": "stream",
     "text": [
      " 74%|████████████████████████████████████████████████████████████████████████████████████████████████████▋                                   | 7814/10550 [03:11<01:06, 41.22it/s]"
     ]
    },
    {
     "name": "stdout",
     "output_type": "stream",
     "text": [
      "Epoch 36 Batch 210/211 [D loss: 0.009114] [G loss:0.826696]\n"
     ]
    },
    {
     "name": "stderr",
     "output_type": "stream",
     "text": [
      " 76%|███████████████████████████████████████████████████████████████████████████████████████████████████████▍                                | 8024/10550 [03:16<01:01, 40.78it/s]"
     ]
    },
    {
     "name": "stdout",
     "output_type": "stream",
     "text": [
      "Epoch 37 Batch 210/211 [D loss: 0.005330] [G loss:0.386240]\n"
     ]
    },
    {
     "name": "stderr",
     "output_type": "stream",
     "text": [
      " 78%|██████████████████████████████████████████████████████████████████████████████████████████████████████████▏                             | 8238/10550 [03:22<00:56, 40.57it/s]"
     ]
    },
    {
     "name": "stdout",
     "output_type": "stream",
     "text": [
      "Epoch 38 Batch 210/211 [D loss: 0.004046] [G loss:0.346947]\n"
     ]
    },
    {
     "name": "stderr",
     "output_type": "stream",
     "text": [
      " 80%|████████████████████████████████████████████████████████████████████████████████████████████████████████████▉                           | 8448/10550 [03:27<00:51, 40.86it/s]"
     ]
    },
    {
     "name": "stdout",
     "output_type": "stream",
     "text": [
      "Epoch 39 Batch 210/211 [D loss: 0.008555] [G loss:1.173231]\n"
     ]
    },
    {
     "name": "stderr",
     "output_type": "stream",
     "text": [
      " 82%|███████████████████████████████████████████████████████████████████████████████████████████████████████████████▌                        | 8658/10550 [03:32<00:46, 40.61it/s]"
     ]
    },
    {
     "name": "stdout",
     "output_type": "stream",
     "text": [
      "Epoch 40 Batch 210/211 [D loss: 0.004752] [G loss:1.589295]\n"
     ]
    },
    {
     "name": "stderr",
     "output_type": "stream",
     "text": [
      " 84%|██████████████████████████████████████████████████████████████████████████████████████████████████████████████████▎                     | 8868/10550 [03:37<00:41, 40.87it/s]"
     ]
    },
    {
     "name": "stdout",
     "output_type": "stream",
     "text": [
      "Epoch 41 Batch 210/211 [D loss: 0.005929] [G loss:0.717466]\n"
     ]
    },
    {
     "name": "stderr",
     "output_type": "stream",
     "text": [
      " 86%|█████████████████████████████████████████████████████████████████████████████████████████████████████████████████████                   | 9078/10550 [03:42<00:37, 39.18it/s]"
     ]
    },
    {
     "name": "stdout",
     "output_type": "stream",
     "text": [
      "Epoch 42 Batch 210/211 [D loss: 0.003657] [G loss:0.915938]\n"
     ]
    },
    {
     "name": "stderr",
     "output_type": "stream",
     "text": [
      " 88%|███████████████████████████████████████████████████████████████████████████████████████████████████████████████████████▋                | 9289/10550 [03:48<00:32, 39.25it/s]"
     ]
    },
    {
     "name": "stdout",
     "output_type": "stream",
     "text": [
      "Epoch 43 Batch 210/211 [D loss: 0.001906] [G loss:0.376941]\n"
     ]
    },
    {
     "name": "stderr",
     "output_type": "stream",
     "text": [
      " 90%|██████████████████████████████████████████████████████████████████████████████████████████████████████████████████████████▍             | 9502/10550 [03:53<00:25, 41.82it/s]"
     ]
    },
    {
     "name": "stdout",
     "output_type": "stream",
     "text": [
      "Epoch 44 Batch 210/211 [D loss: 0.001738] [G loss:0.224618]\n"
     ]
    },
    {
     "name": "stderr",
     "output_type": "stream",
     "text": [
      " 92%|█████████████████████████████████████████████████████████████████████████████████████████████████████████████████████████████▏          | 9712/10550 [03:58<00:20, 41.32it/s]"
     ]
    },
    {
     "name": "stdout",
     "output_type": "stream",
     "text": [
      "Epoch 45 Batch 210/211 [D loss: 0.002135] [G loss:0.155035]\n"
     ]
    },
    {
     "name": "stderr",
     "output_type": "stream",
     "text": [
      " 94%|███████████████████████████████████████████████████████████████████████████████████████████████████████████████████████████████▉        | 9922/10550 [04:03<00:14, 42.26it/s]"
     ]
    },
    {
     "name": "stdout",
     "output_type": "stream",
     "text": [
      "Epoch 46 Batch 210/211 [D loss: 0.002423] [G loss:0.654582]\n"
     ]
    },
    {
     "name": "stderr",
     "output_type": "stream",
     "text": [
      " 96%|█████████████████████████████████████████████████████████████████████████████████████████████████████████████████████████████████▋     | 10134/10550 [04:08<00:10, 39.56it/s]"
     ]
    },
    {
     "name": "stdout",
     "output_type": "stream",
     "text": [
      "Epoch 47 Batch 210/211 [D loss: 0.001134] [G loss:0.656589]\n"
     ]
    },
    {
     "name": "stderr",
     "output_type": "stream",
     "text": [
      " 98%|████████████████████████████████████████████████████████████████████████████████████████████████████████████████████████████████████▎  | 10343/10550 [04:13<00:04, 41.82it/s]"
     ]
    },
    {
     "name": "stdout",
     "output_type": "stream",
     "text": [
      "Epoch 48 Batch 210/211 [D loss: 0.007381] [G loss:2.714421]\n"
     ]
    },
    {
     "name": "stderr",
     "output_type": "stream",
     "text": [
      "100%|██████████████████████████████████████████████████████████████████████████████████████████████████████████████████████████████████████▉| 10548/10550 [04:18<00:00, 42.05it/s]"
     ]
    },
    {
     "name": "stdout",
     "output_type": "stream",
     "text": [
      "Epoch 49 Batch 210/211 [D loss: 0.002216] [G loss:1.945352]\n"
     ]
    }
   ],
   "source": [
    "# Calculating the number of batches based on the batch size\n",
    "batch_count = x_train.shape[0] // batch_size\n",
    "#pbar = tqdm(total=epochs * batch_count, position=0, leave=True)\n",
    "pbar = tqdm(total=epochs * batch_count, position=0, leave=True)\n",
    "\n",
    "gan_loss = []\n",
    "discriminator_loss = []\n",
    "\n",
    "# Inititalizing the network\n",
    "generator = get_generator(adam)\n",
    "discriminator = get_discriminator(adam)\n",
    "gan = make_gan_network(discriminator, generator, adam, input_dim=num_features)\n",
    "\n",
    "print(\"Number params: \", gan.count_params())\n",
    "\n",
    "for epoch in range(epochs):\n",
    "    for index in range(batch_count):\n",
    "        pbar.update(1)\n",
    "        # Creating a random set of input noise and images\n",
    "        noise = np.random.normal(0, 1, size=[batch_size, num_features])\n",
    "\n",
    "        # Generate fake samples\n",
    "        generated_images = generator.predict_on_batch(noise)\n",
    "\n",
    "        # Obtain a batch of normal network packets\n",
    "        image_batch = x_train[index * batch_size: (index + 1) * batch_size]\n",
    "\n",
    "        X = np.vstack((generated_images, image_batch))\n",
    "        y_dis = np.ones(2*batch_size)\n",
    "        y_dis[:batch_size] = 0\n",
    "\n",
    "        # Train discriminator\n",
    "        discriminator.trainable = True\n",
    "        d_loss = discriminator.train_on_batch(X, y_dis)\n",
    "\n",
    "        # Train generator\n",
    "        noise = np.random.uniform(0, 1, size=[batch_size, num_features])\n",
    "        y_gen = np.ones(batch_size)\n",
    "        discriminator.trainable = False\n",
    "        g_loss = gan.train_on_batch(noise, y_gen)\n",
    "\n",
    "        # Record the losses\n",
    "        discriminator_loss.append(d_loss)\n",
    "        gan_loss.append(g_loss)\n",
    "\n",
    "    print(\"Epoch %d Batch %d/%d [D loss: %f] [G loss:%f]\" %\n",
    "          (epoch, index, batch_count, d_loss, g_loss))"
   ]
  },
  {
   "cell_type": "code",
   "execution_count": 32,
   "id": "760a0cff-000b-41a1-b518-51f6513e90dd",
   "metadata": {},
   "outputs": [
    {
     "data": {
      "image/png": "[encoded data removed]",
      "text/plain": [
       "<Figure size 640x480 with 1 Axes>"
      ]
     },
     "metadata": {},
     "output_type": "display_data"
    }
   ],
   "source": [
    "fig, ax = plt.subplots()\n",
    "plt.plot(discriminator_loss, label='Discriminator')\n",
    "plt.plot(gan_loss, label='Generator')\n",
    "plt.title(\"Training Loss GAN\")\n",
    "plt.ylabel('Loss')\n",
    "plt.legend()\n",
    "plt.savefig(figure_path + 'loss_gan_only_cic.png')"
   ]
  },
  {
   "cell_type": "code",
   "execution_count": 33,
   "id": "37dd546b-95f5-4f32-a279-5a20de46f7fe",
   "metadata": {
    "tags": []
   },
   "outputs": [
    {
     "name": "stdout",
     "output_type": "stream",
     "text": [
      "(42915, 78) (42915,)\n"
     ]
    }
   ],
   "source": [
    "print(x_test.shape, y_test.shape)"
   ]
  },
  {
   "cell_type": "code",
   "execution_count": 34,
   "id": "0bd550f8-43c4-40e9-9a64-946804849827",
   "metadata": {
    "tags": []
   },
   "outputs": [],
   "source": [
    "nr_batches_test = np.ceil(x_test.shape[0] // batch_size).astype(np.int32)\n",
    "\n",
    "results = []\n",
    "\n",
    "for t in range(nr_batches_test + 1):\n",
    "    ran_from = t * batch_size\n",
    "    ran_to = (t + 1) * batch_size\n",
    "    image_batch = x_test[ran_from:ran_to]\n",
    "    tmp_rslt = discriminator.predict(x=image_batch, batch_size=128, verbose=0)\n",
    "    results = np.append(results, tmp_rslt)"
   ]
  },
  {
   "cell_type": "code",
   "execution_count": 35,
   "id": "8c14407f-44d4-444d-94a7-0d0f2b60db91",
   "metadata": {},
   "outputs": [
    {
     "name": "stdout",
     "output_type": "stream",
     "text": [
      "Mean score for normal packets : 0.9950404702265638\n",
      "Mean score for anomalous packets : 0.6795699983280438\n"
     ]
    }
   ],
   "source": [
    "pd.options.display.float_format = '{:20,.7f}'.format\n",
    "results_df = pd.concat([pd.DataFrame(results), pd.DataFrame(y_test)], axis=1)\n",
    "results_df.columns = ['results', 'y_test']\n",
    "print('Mean score for normal packets :',\n",
    "      results_df.loc[results_df['y_test'] == 0, 'results'].mean())\n",
    "print('Mean score for anomalous packets :',\n",
    "      results_df.loc[results_df['y_test'] == 1, 'results'].mean())"
   ]
  },
  {
   "cell_type": "markdown",
   "id": "fccae3f5-fa59-4f85-99f2-e122e0dce204",
   "metadata": {
    "tags": []
   },
   "source": [
    "## Plots"
   ]
  },
  {
   "cell_type": "code",
   "execution_count": 36,
   "id": "00983f28-7313-4fb6-95ce-27646b0602f0",
   "metadata": {},
   "outputs": [],
   "source": [
    "def plot_confusion_matrix(cm, savefile, name, cmap=plt.cm.Greens):\n",
    "    plt.imshow(cm, interpolation='nearest', cmap=cmap)\n",
    "    plt.title('Confusion matrix ' + name)\n",
    "    plt.colorbar()\n",
    "    plt.xticks(np.arange(2), ['Normal','Anomaly'], rotation=45)\n",
    "    plt.yticks(np.arange(2), ['Normal','Anomaly'])\n",
    "    plt.tight_layout()\n",
    "\n",
    "    width, height = cm.shape\n",
    "\n",
    "    for x in range(width):\n",
    "        for y in range(height):\n",
    "            plt.annotate(str(cm[x][y]), xy=(y, x), \n",
    "                        horizontalalignment='center',\n",
    "                        verticalalignment='center')\n",
    "    plt.ylabel('True Label')\n",
    "    plt.xlabel('Predicted Label')\n",
    "    plt.savefig(savefile)\n",
    "\n",
    "def plot_accuracy(history, savefile, name):\n",
    "    plt.plot(history.history['accuracy'])\n",
    "    plt.plot(history.history['val_accuracy'])\n",
    "    plt.legend(['accuracy', 'val_accuracy'])\n",
    "    plt.xlabel('Epoch')\n",
    "    plt.ylabel('Accuracy in percent')\n",
    "    plt.title(name)\n",
    "    plt.savefig(savefile)\n",
    "    \n",
    "def plot_loss(history, savefile, name):\n",
    "    plt.plot(history.history['loss'])\n",
    "    plt.plot(history.history['val_loss'])\n",
    "    plt.legend(['loss', 'val_loss'])\n",
    "    plt.xlabel('Epoch')\n",
    "    plt.ylabel('Loss')\n",
    "    plt.title(name)\n",
    "    plt.savefig(savefile)\n",
    "    \n",
    "def plot_roc(tpr, fpr, roc_auc, savefile, name):\n",
    "    plt.figure(figsize=(10,10))\n",
    "    plt.plot(fpr, tpr, lw=1, label='ROC curve (AUC = %0.2f)' % roc_auc)\n",
    "    plt.plot([0, 1], [0, 1], color='lime', linestyle='--')\n",
    "    plt.xlim([0.0, 1.0])\n",
    "    plt.ylim([0.0, 1.05])\n",
    "    plt.xlabel('False Positive Rate')\n",
    "    plt.ylabel('True Positive Rate')\n",
    "    plt.title('ROC ' + name)\n",
    "    plt.legend(loc=\"lower right\")\n",
    "    plt.savefig(savefile)\n"
   ]
  },
  {
   "cell_type": "markdown",
   "id": "0dc85111-50ae-441e-b7da-c8ad9b8ef4d9",
   "metadata": {},
   "source": [
    "## Thresholds"
   ]
  },
  {
   "cell_type": "code",
   "execution_count": 37,
   "id": "1826bfa9-d609-4bca-9fde-3eca33c0d6f6",
   "metadata": {
    "tags": []
   },
   "outputs": [
    {
     "data": {
      "text/plain": [
       "0.5577303972969824"
      ]
     },
     "execution_count": 37,
     "metadata": {},
     "output_type": "execute_result"
    }
   ],
   "source": [
    "anomalies_percentage"
   ]
  },
  {
   "cell_type": "code",
   "execution_count": 38,
   "id": "f3873abc-4e65-4ded-838d-6bc4a0baaeba",
   "metadata": {
    "tags": []
   },
   "outputs": [],
   "source": [
    "# Obtaining the lowest \"anomalies_percentage\" score\n",
    "per = np.percentile(results, anomalies_percentage*100)\n",
    "y_pred = results.copy()\n",
    "y_pred = np.array(y_pred)"
   ]
  },
  {
   "cell_type": "code",
   "execution_count": 39,
   "id": "294689a6-4e38-4595-9548-a47649d8902b",
   "metadata": {},
   "outputs": [
    {
     "name": "stdout",
     "output_type": "stream",
     "text": [
      "Accuracy Score : 0.9810322730979844\n",
      "Precision : 0.9829956131188636\n",
      "Recall : 0.9829956131188636\n",
      "F1 : 0.9829956131188636\n"
     ]
    }
   ],
   "source": [
    "# Thresholding based on the score\n",
    "inds = (y_pred > per)\n",
    "inds_comp = (y_pred <= per)\n",
    "y_pred[inds] = 0\n",
    "y_pred[inds_comp] = 1\n",
    "\n",
    "precision, recall, f1, _ = precision_recall_fscore_support(\n",
    "    y_test, y_pred, average='binary')\n",
    "print('Accuracy Score :', accuracy_score(y_test, y_pred))\n",
    "print('Precision :', precision)\n",
    "print('Recall :', recall)\n",
    "print('F1 :', f1)"
   ]
  },
  {
   "cell_type": "code",
   "execution_count": null,
   "id": "0e6f4852-fcdf-4fe2-8943-6141ddfeac07",
   "metadata": {},
   "outputs": [],
   "source": []
  },
  {
   "cell_type": "code",
   "execution_count": 40,
   "id": "17a0379f-cffd-4ed4-aadc-f416146c9acf",
   "metadata": {},
   "outputs": [],
   "source": [
    "fpr, tpr, thresholds = roc_curve(y_test, y_pred)\n",
    "auc_curve = auc(fpr, tpr)"
   ]
  },
  {
   "cell_type": "code",
   "execution_count": 41,
   "id": "e36d11e3-9df8-44f5-b1e3-554baa1fb90f",
   "metadata": {},
   "outputs": [
    {
     "data": {
      "image/png": "[encoded data removed]",
      "text/plain": [
       "<Figure size 1000x1000 with 1 Axes>"
      ]
     },
     "metadata": {},
     "output_type": "display_data"
    }
   ],
   "source": [
    "plot_roc(tpr, fpr, auc_curve, figure_path + 'roc_gan_only_cic.png', 'GAN')"
   ]
  },
  {
   "cell_type": "code",
   "execution_count": 42,
   "id": "d4a51574-4dbe-46d8-bda3-d1cfaaa6fb9b",
   "metadata": {},
   "outputs": [],
   "source": [
    "cm = confusion_matrix(y_test, y_pred)"
   ]
  },
  {
   "cell_type": "code",
   "execution_count": 43,
   "id": "ddba80d3-e9c8-4061-abac-52b95ba7e5b5",
   "metadata": {},
   "outputs": [
    {
     "data": {
      "image/png": "[encoded data removed]",
      "text/plain": [
       "<Figure size 640x480 with 2 Axes>"
      ]
     },
     "metadata": {},
     "output_type": "display_data"
    }
   ],
   "source": [
    "plot_confusion_matrix(cm, figure_path + 'confusion_gan_only_cic.png', 'GAN')"
   ]
  },
  {
   "cell_type": "code",
   "execution_count": 44,
   "id": "77696ff7-ae35-426f-b9a6-9dd1a7f226a4",
   "metadata": {},
   "outputs": [
    {
     "name": "stdout",
     "output_type": "stream",
     "text": [
      "Epoch 1/10\n",
      "212/212 [==============================] - 1s 2ms/step - loss: 0.0000e+00 - accuracy: 0.9953 - val_loss: 0.0000e+00 - val_accuracy: 0.4423\n",
      "Epoch 2/10\n",
      "212/212 [==============================] - 0s 2ms/step - loss: 0.0000e+00 - accuracy: 1.0000 - val_loss: 0.0000e+00 - val_accuracy: 0.4423\n",
      "Epoch 3/10\n",
      "212/212 [==============================] - 0s 2ms/step - loss: 0.0000e+00 - accuracy: 1.0000 - val_loss: 0.0000e+00 - val_accuracy: 0.4423\n",
      "Epoch 4/10\n",
      "212/212 [==============================] - 0s 2ms/step - loss: 0.0000e+00 - accuracy: 1.0000 - val_loss: 0.0000e+00 - val_accuracy: 0.4423\n",
      "Epoch 5/10\n",
      "212/212 [==============================] - 0s 2ms/step - loss: 0.0000e+00 - accuracy: 1.0000 - val_loss: 0.0000e+00 - val_accuracy: 0.4423\n",
      "Epoch 6/10\n",
      "212/212 [==============================] - 0s 2ms/step - loss: 0.0000e+00 - accuracy: 1.0000 - val_loss: 0.0000e+00 - val_accuracy: 0.4423\n",
      "Epoch 7/10\n",
      "212/212 [==============================] - 0s 2ms/step - loss: 0.0000e+00 - accuracy: 1.0000 - val_loss: 0.0000e+00 - val_accuracy: 0.4423\n",
      "Epoch 8/10\n",
      "212/212 [==============================] - 0s 2ms/step - loss: 0.0000e+00 - accuracy: 1.0000 - val_loss: 0.0000e+00 - val_accuracy: 0.4423\n",
      "Epoch 9/10\n",
      "212/212 [==============================] - 0s 2ms/step - loss: 0.0000e+00 - accuracy: 1.0000 - val_loss: 0.0000e+00 - val_accuracy: 0.4423\n",
      "Epoch 10/10\n",
      "212/212 [==============================] - 0s 2ms/step - loss: 0.0000e+00 - accuracy: 1.0000 - val_loss: 0.0000e+00 - val_accuracy: 0.4423\n"
     ]
    },
    {
     "name": "stderr",
     "output_type": "stream",
     "text": [
      "100%|███████████████████████████████████████████████████████████████████████████████████████████████████████████████████████████████████████| 10550/10550 [04:30<00:00, 42.05it/s]"
     ]
    }
   ],
   "source": [
    "model = Sequential()\n",
    "model.add(Dense(256, input_shape=(num_features,), activation=\"sigmoid\"))\n",
    "model.add(Dense(128, activation=\"sigmoid\"))\n",
    "model.add(Dense(1, activation=\"sigmoid\"))\n",
    "sgd = Adam()\n",
    "model.compile(loss=\"categorical_crossentropy\", optimizer=sgd,\n",
    "metrics=[\"accuracy\"])\n",
    "H = model.fit(x_train, y_train, validation_data=(x_test, y_test), epochs=10, batch_size=512)\n"
   ]
  },
  {
   "cell_type": "code",
   "execution_count": null,
   "id": "ad844736-597d-4058-a106-2156cdb7304f",
   "metadata": {},
   "outputs": [],
   "source": []
  }
 ],
 "metadata": {
  "kernelspec": {
   "display_name": "master",
   "language": "python",
   "name": "master"
  },
  "language_info": {
   "codemirror_mode": {
    "name": "ipython",
    "version": 3
   },
   "file_extension": ".py",
   "mimetype": "text/x-python",
   "name": "python",
   "nbconvert_exporter": "python",
   "pygments_lexer": "ipython3",
   "version": "3.9.16"
  }
 },
 "nbformat": 4,
 "nbformat_minor": 5
}
