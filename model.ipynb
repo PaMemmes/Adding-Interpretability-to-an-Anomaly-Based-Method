{
 "cells": [
  {
   "cell_type": "code",
   "execution_count": 40,
   "id": "847be261-b3d8-41ce-aacd-4c91d139f4e1",
   "metadata": {},
   "outputs": [],
   "source": [
    "import pandas as pd\n",
    "import numpy as np\n",
    "import sklearn as sk\n",
    "import glob\n",
    "import pickle\n",
    "import os\n",
    "\n",
    "from nfstream import NFStreamer"
   ]
  },
  {
   "cell_type": "code",
   "execution_count": 41,
   "id": "653c2ebc-c49c-4e57-94bf-6360e1face6a",
   "metadata": {},
   "outputs": [],
   "source": [
    "pd.options.display.max_columns = None"
   ]
  },
  {
   "cell_type": "code",
   "execution_count": 42,
   "id": "7bd7587f-2a6a-4b62-b1d5-7f65ea037ede",
   "metadata": {},
   "outputs": [],
   "source": [
    "df_frag = pd.concat(map(pd.read_csv, glob.glob('data/csv_fragmentedV3/*.csv')))\n"
   ]
  },
  {
   "cell_type": "code",
   "execution_count": 43,
   "id": "a5918151-34b0-4aab-860b-b860f93a86d7",
   "metadata": {},
   "outputs": [],
   "source": [
    "df = pd.read_csv('data/test/Friday-02-03-2018_TrafficForML_CICFlowMeter.csv')"
   ]
  },
  {
   "cell_type": "code",
   "execution_count": 44,
   "id": "0096dd1b-0de7-4f06-a8ea-28b9484d67ac",
   "metadata": {},
   "outputs": [],
   "source": [
    "# df = pd.concat(map(pd.read_csv, glob.glob('data/test/*.csv')))"
   ]
  },
  {
   "cell_type": "code",
   "execution_count": 45,
   "id": "1256750a-4143-4c17-be0f-e856829dcae3",
   "metadata": {},
   "outputs": [],
   "source": [
    "filename = 'data/preprocessed_data.pickle'\n",
    "\n",
    "input_file = open(filename, 'rb')\n",
    "preprocessed_data = pickle.load(input_file)\n",
    "input_file.close()"
   ]
  },
  {
   "cell_type": "code",
   "execution_count": 46,
   "id": "33efc897-ca02-4e36-bf6a-454bc457ba13",
   "metadata": {},
   "outputs": [],
   "source": [
    "le = preprocessed_data['le']\n",
    "x_train = preprocessed_data['x_train']\n",
    "y_train = preprocessed_data['y_train']\n",
    "x_test = preprocessed_data['x_test']\n",
    "y_test = preprocessed_data['y_test']"
   ]
  },
  {
   "cell_type": "code",
   "execution_count": 47,
   "id": "76334c01-0405-4d68-bc00-5dc8f663f8fc",
   "metadata": {},
   "outputs": [
    {
     "data": {
      "text/html": [
       "<div>\n",
       "<style scoped>\n",
       "    .dataframe tbody tr th:only-of-type {\n",
       "        vertical-align: middle;\n",
       "    }\n",
       "\n",
       "    .dataframe tbody tr th {\n",
       "        vertical-align: top;\n",
       "    }\n",
       "\n",
       "    .dataframe thead th {\n",
       "        text-align: right;\n",
       "    }\n",
       "</style>\n",
       "<table border=\"1\" class=\"dataframe\">\n",
       "  <thead>\n",
       "    <tr style=\"text-align: right;\">\n",
       "      <th></th>\n",
       "      <th>Type</th>\n",
       "    </tr>\n",
       "  </thead>\n",
       "  <tbody>\n",
       "    <tr>\n",
       "      <th>0</th>\n",
       "      <td>Benign</td>\n",
       "    </tr>\n",
       "    <tr>\n",
       "      <th>1</th>\n",
       "      <td>Bot</td>\n",
       "    </tr>\n",
       "  </tbody>\n",
       "</table>\n",
       "</div>"
      ],
      "text/plain": [
       "     Type\n",
       "0  Benign\n",
       "1     Bot"
      ]
     },
     "execution_count": 47,
     "metadata": {},
     "output_type": "execute_result"
    }
   ],
   "source": [
    "pd.DataFrame(le.classes_, columns=['Type'])"
   ]
  },
  {
   "cell_type": "code",
   "execution_count": 48,
   "id": "d73365c5-6294-45ac-a3b1-59dfa8e80276",
   "metadata": {},
   "outputs": [
    {
     "name": "stdout",
     "output_type": "stream",
     "text": [
      "(940081, 78)\n",
      "(940081,)\n",
      "(313361, 78)\n",
      "(313361,)\n"
     ]
    }
   ],
   "source": [
    "assert x_train.shape[0] == y_train.shape[0]\n",
    "assert x_test.shape[0] == y_test.shape[0]\n",
    "assert x_train.shape[1] == x_test.shape[1]\n",
    "print(x_train.shape)\n",
    "print(y_train.shape)\n",
    "print(x_test.shape)\n",
    "print(y_test.shape)"
   ]
  },
  {
   "cell_type": "code",
   "execution_count": null,
   "id": "7c861f76-50ed-4e91-8bcd-c704f0b18cc5",
   "metadata": {},
   "outputs": [],
   "source": [
    "# Labels normal data as 0, anomalies as 1\n",
    "\n",
    "def make_labels_binary(label_encoder, labels):\n",
    "    normal_data_index = np.where(label_encoder.classes_ == 'BENIGN')[0][0]\n",
    "    new_labels = labels.copy()\n",
    "    new_labels[labels != normal_data_index] = 1\n",
    "    new_labels[labels == normal_data_index] = 0\n",
    "    return new_labels"
   ]
  }
 ],
 "metadata": {
  "kernelspec": {
   "display_name": "Python 3 (ipykernel)",
   "language": "python",
   "name": "python3"
  },
  "language_info": {
   "codemirror_mode": {
    "name": "ipython",
    "version": 3
   },
   "file_extension": ".py",
   "mimetype": "text/x-python",
   "name": "python",
   "nbconvert_exporter": "python",
   "pygments_lexer": "ipython3",
   "version": "3.10.9"
  }
 },
 "nbformat": 4,
 "nbformat_minor": 5
}
