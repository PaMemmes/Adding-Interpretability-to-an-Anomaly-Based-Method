{
 "cells": [
  {
   "cell_type": "markdown",
   "id": "c3236a26-aecf-410b-bb30-40d900b1fc53",
   "metadata": {},
   "source": [
    "# Analysis of fragmented malware detection by Suricata"
   ]
  },
  {
   "cell_type": "code",
   "execution_count": null,
   "id": "75f75b1b-2f18-4f62-af72-f26bb3ceb3f8",
   "metadata": {},
   "outputs": [],
   "source": []
  }
 ],
 "metadata": {
  "kernelspec": {
   "display_name": "Python 3 (ipykernel)",
   "language": "python",
   "name": "python3"
  },
  "language_info": {
   "codemirror_mode": {
    "name": "ipython",
    "version": 3
   },
   "file_extension": ".py",
   "mimetype": "text/x-python",
   "name": "python",
   "nbconvert_exporter": "python",
   "pygments_lexer": "ipython3",
   "version": "3.10.9"
  }
 },
 "nbformat": 4,
 "nbformat_minor": 5
}
