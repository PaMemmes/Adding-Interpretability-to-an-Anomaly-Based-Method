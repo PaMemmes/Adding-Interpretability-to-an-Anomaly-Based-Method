{
 "cells": [
  {
   "cell_type": "markdown",
   "id": "c3236a26-aecf-410b-bb30-40d900b1fc53",
   "metadata": {},
   "source": [
    "# Analysis of fragmented malware detection by Suricata"
   ]
  },
  {
   "cell_type": "code",
   "execution_count": 35,
   "id": "75f75b1b-2f18-4f62-af72-f26bb3ceb3f8",
   "metadata": {},
   "outputs": [],
   "source": [
    "import pandas as pd\n",
    "import numpy as np\n",
    "import matplotlib.pyplot as plt\n",
    "\n",
    "import orjson"
   ]
  },
  {
   "cell_type": "code",
   "execution_count": 36,
   "id": "bd4b0803-f880-4de3-a643-f0e845da17fe",
   "metadata": {},
   "outputs": [],
   "source": [
    "def get_json_data(file):\n",
    "    return [orjson.loads(line) for line in open(\"suricata_logs/All.ElectroRAT/eve.json\", \"rb\")]"
   ]
  },
  {
   "cell_type": "code",
   "execution_count": 37,
   "id": "f4dd2742-8d54-4d43-8711-680da2863c3c",
   "metadata": {},
   "outputs": [],
   "source": [
    "def get_alerts(json_data):\n",
    "    alerts = [line for line in json_data if \"alert\" in line]\n",
    "    return alerts"
   ]
  },
  {
   "cell_type": "code",
   "execution_count": null,
   "id": "1ca533e8-200c-4a2c-a9a2-fd1bd08e22a5",
   "metadata": {},
   "outputs": [],
   "source": [
    "file = \"suricata_logs/All.ElectroRAT/eve.json\"\n",
    "json_data = get_json_data(file)\n",
    "alerts = get_alerts(json_data)"
   ]
  }
 ],
 "metadata": {
  "kernelspec": {
   "display_name": "Python 3 (ipykernel)",
   "language": "python",
   "name": "python3"
  },
  "language_info": {
   "codemirror_mode": {
    "name": "ipython",
    "version": 3
   },
   "file_extension": ".py",
   "mimetype": "text/x-python",
   "name": "python",
   "nbconvert_exporter": "python",
   "pygments_lexer": "ipython3",
   "version": "3.10.9"
  }
 },
 "nbformat": 4,
 "nbformat_minor": 5
}
